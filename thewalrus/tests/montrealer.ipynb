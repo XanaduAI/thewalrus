{
 "cells": [
  {
   "cell_type": "code",
   "execution_count": 1,
   "metadata": {},
   "outputs": [],
   "source": [
    "import pytest\n",
    "import numpy as np\n",
    "from thewalrus import mtl, lmtl\n",
    "from thewalrus.quantum import Qmat, Xmat\n",
    "from thewalrus.reference import rspm, rpmp, mtl as mtl_symb\n",
    "from thewalrus.random import random_covariance\n",
    "from scipy.special import factorial2\n",
    "from scipy.stats import unitary_group"
   ]
  },
  {
   "cell_type": "code",
   "execution_count": 6,
   "metadata": {},
   "outputs": [
    {
     "name": "stdout",
     "output_type": "stream",
     "text": [
      "((1, 6), (2, 7), (3, 8), (5, 4))\n",
      "((1, 6), (2, 7), (3, 4), (5, 8))\n",
      "((1, 6), (2, 3), (7, 8), (5, 4))\n",
      "((1, 6), (2, 3), (7, 4), (5, 8))\n",
      "((1, 2), (6, 7), (3, 8), (5, 4))\n",
      "((1, 2), (6, 7), (3, 4), (5, 8))\n",
      "((1, 2), (6, 3), (7, 8), (5, 4))\n",
      "((1, 2), (6, 3), (7, 4), (5, 8))\n",
      "((1, 6), (2, 8), (4, 7), (5, 3))\n",
      "((1, 6), (2, 8), (4, 3), (5, 7))\n",
      "((1, 6), (2, 4), (8, 7), (5, 3))\n",
      "((1, 6), (2, 4), (8, 3), (5, 7))\n",
      "((1, 2), (6, 8), (4, 7), (5, 3))\n",
      "((1, 2), (6, 8), (4, 3), (5, 7))\n",
      "((1, 2), (6, 4), (8, 7), (5, 3))\n",
      "((1, 2), (6, 4), (8, 3), (5, 7))\n",
      "((1, 7), (3, 6), (2, 8), (5, 4))\n",
      "((1, 7), (3, 6), (2, 4), (5, 8))\n",
      "((1, 7), (3, 2), (6, 8), (5, 4))\n",
      "((1, 7), (3, 2), (6, 4), (5, 8))\n",
      "((1, 3), (7, 6), (2, 8), (5, 4))\n",
      "((1, 3), (7, 6), (2, 4), (5, 8))\n",
      "((1, 3), (7, 2), (6, 8), (5, 4))\n",
      "((1, 3), (7, 2), (6, 4), (5, 8))\n",
      "((1, 8), (4, 6), (2, 7), (5, 3))\n",
      "((1, 8), (4, 6), (2, 3), (5, 7))\n",
      "((1, 8), (4, 2), (6, 7), (5, 3))\n",
      "((1, 8), (4, 2), (6, 3), (5, 7))\n",
      "((1, 4), (8, 6), (2, 7), (5, 3))\n",
      "((1, 4), (8, 6), (2, 3), (5, 7))\n",
      "((1, 4), (8, 2), (6, 7), (5, 3))\n",
      "((1, 4), (8, 2), (6, 3), (5, 7))\n",
      "((1, 7), (3, 8), (4, 6), (5, 2))\n",
      "((1, 7), (3, 8), (4, 2), (5, 6))\n",
      "((1, 7), (3, 4), (8, 6), (5, 2))\n",
      "((1, 7), (3, 4), (8, 2), (5, 6))\n",
      "((1, 3), (7, 8), (4, 6), (5, 2))\n",
      "((1, 3), (7, 8), (4, 2), (5, 6))\n",
      "((1, 3), (7, 4), (8, 6), (5, 2))\n",
      "((1, 3), (7, 4), (8, 2), (5, 6))\n",
      "((1, 8), (4, 7), (3, 6), (5, 2))\n",
      "((1, 8), (4, 7), (3, 2), (5, 6))\n",
      "((1, 8), (4, 3), (7, 6), (5, 2))\n",
      "((1, 8), (4, 3), (7, 2), (5, 6))\n",
      "((1, 4), (8, 7), (3, 6), (5, 2))\n",
      "((1, 4), (8, 7), (3, 2), (5, 6))\n",
      "((1, 4), (8, 3), (7, 6), (5, 2))\n",
      "((1, 4), (8, 3), (7, 2), (5, 6))\n"
     ]
    }
   ],
   "source": [
    "n = 4\n",
    "for perfect in rpmp(range(1, 2 * n + 1)):\n",
    "    print(perfect)"
   ]
  },
  {
   "cell_type": "code",
   "execution_count": 5,
   "metadata": {},
   "outputs": [
    {
     "name": "stdout",
     "output_type": "stream",
     "text": [
      "True\n"
     ]
    }
   ],
   "source": [
    "n = 3\n",
    "test = True\n",
    "for perfect in rpmp(range(1, 2 * n + 1)):\n",
    "    last = perfect[0][1]  # starting point\n",
    "    reduced_last = last - n if last > n else last\n",
    "    # different mode in every tuple\n",
    "    if reduced_last == 1:\n",
    "        test = False\n",
    "\n",
    "    for i in perfect[1:]:\n",
    "        reduced = i[0] - n if i[0] > n else i[0], i[1] - n if i[1] > n else i[1]\n",
    "        # different mode in every tuple\n",
    "        if reduced[0] == reduced[1]:\n",
    "            test = False\n",
    "        # consecutive tuple contain the same mode\n",
    "        if reduced_last not in reduced:\n",
    "            test = False\n",
    "\n",
    "        last = i[0] if reduced[1] == reduced_last else i[1]\n",
    "        reduced_last = last - n if last > n else last\n",
    "\n",
    "    # last mode most coincide with the first one\n",
    "    if reduced_last != 1:\n",
    "        test = False\n",
    "\n",
    "print(test)        "
   ]
  },
  {
   "cell_type": "code",
   "execution_count": 8,
   "metadata": {},
   "outputs": [],
   "source": [
    "def rpmp_alternating_walk(perfect, n):\n",
    "    last = perfect[0][1]  # starting point\n",
    "    reduced_last = last - n if last > n else last\n",
    "    # different mode in every tuple\n",
    "    if reduced_last == 1:\n",
    "        return False\n",
    "\n",
    "    for i in perfect[1:]:\n",
    "        reduced = i[0] - n if i[0] > n else i[0], i[1] - n if i[1] > n else i[1]\n",
    "        # different mode in every tuple\n",
    "        if reduced[0] == reduced[1]:\n",
    "            return False\n",
    "        # consecutive tuple contain the same mode\n",
    "        if reduced_last not in reduced:\n",
    "            return False\n",
    "\n",
    "        last = i[0] if reduced[1] == reduced_last else i[1]\n",
    "        reduced_last = last - n if last > n else last\n",
    "\n",
    "    # last mode most coincide with the first one\n",
    "    if reduced_last != 1:\n",
    "        return False\n",
    "    \n",
    "    return True"
   ]
  },
  {
   "cell_type": "code",
   "execution_count": 10,
   "metadata": {},
   "outputs": [
    {
     "name": "stdout",
     "output_type": "stream",
     "text": [
      "True\n"
     ]
    }
   ],
   "source": [
    "n = 4\n",
    "test = True\n",
    "for perfect in rpmp(range(1, 2 * n + 1)):\n",
    "    test = rpmp_alternating_walk(perfect, n)\n",
    "    if not test:\n",
    "        break\n",
    "\n",
    "print(test)"
   ]
  },
  {
   "cell_type": "code",
   "execution_count": 22,
   "metadata": {},
   "outputs": [],
   "source": [
    "def rspm_alternating_walk(perfect, n):\n",
    "    # First tuple should be a loop\n",
    "    if perfect[0][0] != perfect[0][1]:\n",
    "        return False\n",
    "    \n",
    "    last = perfect[0][1]  # starting point\n",
    "    reduced_last = last - n if last > n else last\n",
    "\n",
    "    for i in perfect[1:-1]:\n",
    "        reduced = i[0] - n if i[0] > n else i[0], i[1] - n if i[1] > n else i[1]\n",
    "        # different mode in every tuple\n",
    "        if reduced[0] == reduced[1]:\n",
    "            return False\n",
    "        # consecutive tuple contain the same mode\n",
    "        if reduced_last not in reduced:\n",
    "            print(f'reduced_last={reduced_last} and reduced = {reduced}')\n",
    "            return False\n",
    "\n",
    "        last = i[0] if reduced[1] == reduced_last else i[1]\n",
    "        reduced_last = last - n if last > n else last\n",
    "\n",
    "    #consecutive tuple contain the same mode\n",
    "    if perfect[-1][0] not in (last, reduced_last, last+n):\n",
    "        return False\n",
    "    \n",
    "    # last mode most be a loop\n",
    "    if perfect[-1][0] != perfect[-1][1]:\n",
    "        return False\n",
    "    \n",
    "    return True"
   ]
  },
  {
   "cell_type": "code",
   "execution_count": 23,
   "metadata": {},
   "outputs": [
    {
     "name": "stdout",
     "output_type": "stream",
     "text": [
      "True : ((1, 6), (2, 7), (3, 8), (5, 4))\n",
      "True : ((6, 6), (2, 7), (3, 8), (5, 4), (1, 1))\n",
      "True : ((7, 7), (3, 8), (5, 4), (1, 6), (2, 2))\n",
      "True : ((8, 8), (5, 4), (1, 6), (2, 7), (3, 3))\n",
      "reduced_last=4 and reduced = (1, 2)\n",
      "False : ((4, 4), (1, 6), (2, 7), (3, 8), (5, 5))\n",
      "final test : False\n"
     ]
    }
   ],
   "source": [
    "n = 4\n",
    "test = True\n",
    "for perfect in rspm(range(1, 2 * n + 1)):\n",
    "    test = rpmp_alternating_walk(perfect, n) if len(perfect)==n else rspm_alternating_walk(perfect, n)\n",
    "    print(f'{test} : {perfect}')\n",
    "    if not test:\n",
    "        break\n",
    "\n",
    "print(f'final test : {test}')"
   ]
  }
 ],
 "metadata": {
  "kernelspec": {
   "display_name": "thewalrus",
   "language": "python",
   "name": "python3"
  },
  "language_info": {
   "codemirror_mode": {
    "name": "ipython",
    "version": 3
   },
   "file_extension": ".py",
   "mimetype": "text/x-python",
   "name": "python",
   "nbconvert_exporter": "python",
   "pygments_lexer": "ipython3",
   "version": "3.8.0"
  }
 },
 "nbformat": 4,
 "nbformat_minor": 2
}
