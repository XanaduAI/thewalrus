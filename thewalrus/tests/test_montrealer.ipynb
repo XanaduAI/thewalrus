{
 "cells": [
  {
   "cell_type": "markdown",
   "metadata": {},
   "source": [
    "# Garbage file for theWalrus' test_montrealer.py\n",
    "\n",
    "File to help figure out how to use and test functions to be tested in the Montrealer.\n",
    "\n",
    "September 28th 2023"
   ]
  },
  {
   "cell_type": "code",
   "execution_count": 1,
   "metadata": {},
   "outputs": [
    {
     "ename": "ImportError",
     "evalue": "cannot import name 'mtl' from 'thewalrus' (c:\\Users\\yanic\\anaconda3\\envs\\GBS\\lib\\site-packages\\thewalrus\\__init__.py)",
     "output_type": "error",
     "traceback": [
      "\u001b[1;31m---------------------------------------------------------------------------\u001b[0m",
      "\u001b[1;31mImportError\u001b[0m                               Traceback (most recent call last)",
      "\u001b[1;32mc:\\Users\\yanic\\Github\\z_Python_garbage\\test_montrealer.ipynb Cell 2\u001b[0m line \u001b[0;36m<cell line: 1>\u001b[1;34m()\u001b[0m\n\u001b[1;32m----> <a href='vscode-notebook-cell:/c%3A/Users/yanic/Github/z_Python_garbage/test_montrealer.ipynb#W1sZmlsZQ%3D%3D?line=0'>1</a>\u001b[0m \u001b[39mfrom\u001b[39;00m \u001b[39mthewalrus\u001b[39;00m \u001b[39mimport\u001b[39;00m mtl, lmtl\n",
      "\u001b[1;31mImportError\u001b[0m: cannot import name 'mtl' from 'thewalrus' (c:\\Users\\yanic\\anaconda3\\envs\\GBS\\lib\\site-packages\\thewalrus\\__init__.py)"
     ]
    }
   ],
   "source": [
    "import thewalrus\n",
    "#from thewalrus import mtl, lmtl\n",
    "#from thewalrus._montrealer import montrealer, lmontrealer\n",
    "#from thewalrus.reference import rpmp, rspm"
   ]
  },
  {
   "cell_type": "markdown",
   "metadata": {},
   "source": [
    "### rpmp and rspm\n",
    "\n",
    "Playing with the rpmp and the rspm. Things to test are :\n",
    "1. Both rpmp and rspm have the correct number of terms.\n",
    "2. They form a Y-alternting walk\n",
    "3. The form a Hamiltonian cycle (less general than Y-alternating walk)\n",
    "\n",
    "Things to know :\n",
    "1. Both are iterators\n",
    "2. Both take tuples as entries\n",
    "3. rspm is the one allowing for loops\n",
    "4. I assume the first mode is mode 1 not 0."
   ]
  },
  {
   "cell_type": "code",
   "execution_count": 30,
   "metadata": {},
   "outputs": [
    {
     "name": "stdout",
     "output_type": "stream",
     "text": [
      "rpmp([6])\n",
      "((1, 5), (2, 6), (4, 3))\n",
      "((1, 5), (2, 3), (4, 6))\n",
      "((1, 2), (5, 6), (4, 3))\n",
      "((1, 2), (5, 3), (4, 6))\n",
      "((1, 6), (3, 5), (4, 2))\n",
      "((1, 6), (3, 2), (4, 5))\n",
      "((1, 3), (6, 5), (4, 2))\n",
      "((1, 3), (6, 2), (4, 5))\n",
      "\n",
      "rspm([4])\n",
      "((1, 4), (3, 2))\n",
      "((1, 1), (4, 4), (3, 2))\n",
      "((1, 4), (3, 3), (2, 2))\n",
      "((1, 2), (3, 4))\n",
      "((1, 1), (2, 2), (3, 4))\n",
      "((1, 2), (3, 3), (4, 4))\n"
     ]
    }
   ],
   "source": [
    "print('rpmp([6])')\n",
    "for i in rpmp(range(1,7)):\n",
    "    print(i)\n",
    "\n",
    "print('\\nrspm([4])')\n",
    "for i in rspm(range(1,5)):\n",
    "    print(i)"
   ]
  },
  {
   "cell_type": "markdown",
   "metadata": {},
   "source": [
    "Y-alternating walk of the rpmp\n",
    "\n",
    "To test if the rpmp is a Y-alternating walk\n",
    "1. Two elements of the same tuple have to be from different modes.\n",
    "2. The last element of a tuple and the first of the next have to be from the same mode.\n",
    "3. All elements must be unique\n",
    "4. The walk has to be closed (which cannot be tested giving the shape of the rpmp)"
   ]
  },
  {
   "cell_type": "code",
   "execution_count": 32,
   "metadata": {},
   "outputs": [
    {
     "name": "stdout",
     "output_type": "stream",
     "text": [
      "last = 6\n",
      "4\n",
      "((1, 5), (2, 6), (4, 3))\n",
      "last = 3\n",
      "4\n",
      "((1, 5), (2, 3), (4, 6))\n",
      "last = 6\n",
      "4\n",
      "((1, 2), (5, 6), (4, 3))\n",
      "last = 3\n",
      "4\n",
      "((1, 2), (5, 3), (4, 6))\n",
      "last = 5\n",
      "4\n",
      "((1, 6), (3, 5), (4, 2))\n",
      "last = 2\n",
      "4\n",
      "((1, 6), (3, 2), (4, 5))\n",
      "last = 5\n",
      "4\n",
      "((1, 3), (6, 5), (4, 2))\n",
      "last = 2\n",
      "4\n",
      "((1, 3), (6, 2), (4, 5))\n",
      "False\n"
     ]
    }
   ],
   "source": [
    "n = 3 #n is the number of modes\n",
    "unique = []\n",
    "test = True\n",
    "#different modes within tuples\n",
    "for perfect in rpmp(range(1,2*n+1)):\n",
    "    for i in perfect:\n",
    "        if min(i) == max(i):\n",
    "            test = False\n",
    "            break\n",
    "    if not test:\n",
    "        break\n",
    "#same mode for adjacent elements\n",
    "for perfect in rpmp(range(1,2*n+1)):\n",
    "    last = sorted(perfect[0])[1]\n",
    "    for i in perfect[1:]:\n",
    "        if last+n == i[0] or last-n == i[0]:\n",
    "            last = i[1]\n",
    "        else:\n",
    "            test = False\n",
    "            print(f'last = {last}')\n",
    "            print(i[0])\n",
    "            print(perfect)\n",
    "            break\n",
    "        \n",
    "print(test)"
   ]
  },
  {
   "cell_type": "markdown",
   "metadata": {},
   "source": [
    "I know realise that the elements of the rpmp are not order in a way that they can be followed to form a Y-altenating walk. For example, the rpmp don't make a distinction between (3,4) and (4,3) since they refer to the same matrix element A since it is symetric. That complicates things for the Y-alternating walk. I will test for Hamiltonian walks instead."
   ]
  },
  {
   "cell_type": "markdown",
   "metadata": {},
   "source": [
    "Hamiltonian walk of the rpmp\n",
    "\n",
    "1. All walks have to be unique.\n",
    "2. Taking only the minimum value of each elements, the new set should be equal to the permutations of n-1 elements (always starting with 1 as the first element)"
   ]
  },
  {
   "cell_type": "code",
   "execution_count": 36,
   "metadata": {},
   "outputs": [
    {
     "name": "stdout",
     "output_type": "stream",
     "text": [
      "[1, 2, 3]\n",
      "[1, 2, 4]\n",
      "[1, 5, 3]\n",
      "[1, 3, 4]\n",
      "[1, 3, 2]\n",
      "[1, 2, 4]\n",
      "[1, 5, 2]\n",
      "[1, 2, 4]\n"
     ]
    }
   ],
   "source": [
    "n = 3 #n is the number of modes\n",
    "hamiltonien = []\n",
    "for perfect in rpmp(range(1,2*n+1)):\n",
    "    walk = [min(i) for i in perfect]\n",
    "    print(walk)\n",
    "        #walk = [min(j) for j in i]\n",
    "        #hamiltonien.append(walk)\n",
    "\n",
    "#for i in hamiltonien:\n",
    "#    print(i)"
   ]
  }
 ],
 "metadata": {
  "kernelspec": {
   "display_name": "GBS",
   "language": "python",
   "name": "python3"
  },
  "language_info": {
   "codemirror_mode": {
    "name": "ipython",
    "version": 3
   },
   "file_extension": ".py",
   "mimetype": "text/x-python",
   "name": "python",
   "nbconvert_exporter": "python",
   "pygments_lexer": "ipython3",
   "version": "3.8.13"
  },
  "orig_nbformat": 4
 },
 "nbformat": 4,
 "nbformat_minor": 2
}
